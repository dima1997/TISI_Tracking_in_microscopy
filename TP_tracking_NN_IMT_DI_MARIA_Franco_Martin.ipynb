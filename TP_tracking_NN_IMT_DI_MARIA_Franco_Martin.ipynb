{
 "cells": [
  {
   "cell_type": "markdown",
   "id": "ebfad5cf",
   "metadata": {},
   "source": [
    "# Student : DI MARIA, Franco Martin\n",
    "franco.di-maria@imt-atlantique.net"
   ]
  },
  {
   "cell_type": "markdown",
   "id": "dcc1a753",
   "metadata": {},
   "source": [
    "# Loading of python libraries"
   ]
  },
  {
   "cell_type": "code",
   "execution_count": 2,
   "id": "2bf995e8",
   "metadata": {},
   "outputs": [],
   "source": [
    "# !pip install numpy\n",
    "# !pip install -U scikit-image\n",
    "# !pip install ipywidgets\n",
    "# !pip install matplotlib"
   ]
  },
  {
   "cell_type": "code",
   "execution_count": 3,
   "id": "b6f32944",
   "metadata": {},
   "outputs": [],
   "source": [
    "from ipywidgets import widgets\n",
    "from ipywidgets import interact, fixed\n",
    "from skimage.draw import circle_perimeter\n",
    "from skimage.draw import line\n",
    "import matplotlib.pyplot as plt\n",
    "import skimage.io as io\n",
    "import numpy as np\n",
    "import math"
   ]
  },
  {
   "cell_type": "markdown",
   "id": "f56871a8",
   "metadata": {},
   "source": [
    "# Definition of classes and functions"
   ]
  },
  {
   "cell_type": "code",
   "execution_count": 4,
   "id": "e4d74f0d",
   "metadata": {},
   "outputs": [],
   "source": [
    "\n",
    "\n",
    "class Spot:\n",
    "    def __init__(self, x, y, t, value, matched=None, daughterOf=None):\n",
    "        self.x = x # int: position x --> column \n",
    "        self.y = y # int: position y --> raw\n",
    "        self.t = t # int: position t\n",
    "        self.value = value # float: intensity value at Im(x, y, t) # Question 8\n",
    "        self.matched = matched # Spot: linked detection in the frame t+1\n",
    "    \n",
    "    def distance(self, spot): # Spot spot\n",
    "        return np.sqrt(((spot.x - self.x)**2) + ((spot.y - self.y)**2))\n",
    "    \n",
    "    def draw(self, size, stack_results): \n",
    "        # stack_results: image in which we draw the detections and the trajectories. Shape (T,W,L,C)\n",
    "        # size: radius of the circle\n",
    "        rr, cc = circle_perimeter(self.y, self.x, size, shape=(stack_results.shape[1], stack_results.shape[2]))\n",
    "        stack_results[self.t,rr, cc, :] = (255, 0, 0)"
   ]
  },
  {
   "cell_type": "code",
   "execution_count": 5,
   "id": "45257c4e",
   "metadata": {},
   "outputs": [],
   "source": [
    "class Trajectory: # A partir de la question 6\n",
    "    def __init__(self): \n",
    "        self.list_spots = [] # a trajectory is a list of spots\n",
    "    \n",
    "    def add(self, spot): \n",
    "        self.list_spots.append(spot) # a trajectory is a list of spots\n",
    "        \n",
    "    def last_spot(self): # return the last spot added to the trajectory\n",
    "        return self.list_spots[-1]\n",
    "    \n",
    "    def draw(self, stack_results):\n",
    "        color = list(np.random.choice(range(256), size=3))\n",
    "        nbSpots = len(self.list_spots)\n",
    "        for i in range(nbSpots-1):\n",
    "            spot1 = self.list_spots[i]\n",
    "            spot2 = self.list_spots[i+1]\n",
    "            rr, cc = line(spot1.y, spot1.x, spot2.y, spot2.x)\n",
    "            stack_results[:, rr, cc, :] = color"
   ]
  },
  {
   "cell_type": "code",
   "execution_count": 6,
   "id": "d8068013",
   "metadata": {},
   "outputs": [],
   "source": [
    "def plot_image(image, title):\n",
    "    plt.imshow(image, cmap=plt.cm.gray)\n",
    "    plt.axis('off')\n",
    "    plt.title(title)\n",
    "    plt.show()\n",
    "    \n",
    "def plot_image_RGB(image, title):\n",
    "    plt.imshow(image.astype(np.uint8))\n",
    "    plt.axis('off')\n",
    "    plt.title(title)\n",
    "    plt.show()\n",
    "    \n",
    "def plot_stack(image, index, title):\n",
    "    plt.imshow(image[index], cmap=plt.cm.gray)\n",
    "    plt.axis('off')\n",
    "    plt.title(title)\n",
    "    plt.show()\n",
    "    \n",
    "def plot_trajectories(image, index, title):\n",
    "    plt.imshow(image[index].astype(np.uint8))\n",
    "    plt.axis('off')\n",
    "    plt.title(title)\n",
    "    plt.show()"
   ]
  },
  {
   "cell_type": "markdown",
   "id": "82d658e5",
   "metadata": {},
   "source": [
    "# Loading of the sequence of images"
   ]
  },
  {
   "cell_type": "markdown",
   "id": "1c764d86",
   "metadata": {},
   "source": [
    "### <span style=\"color:blue\">Question 1</span>"
   ]
  },
  {
   "cell_type": "code",
   "execution_count": 7,
   "id": "7ee7c303",
   "metadata": {},
   "outputs": [
    {
     "data": {
      "application/vnd.jupyter.widget-view+json": {
       "model_id": "e7ef58d06dad458695f310a6c83db654",
       "version_major": 2,
       "version_minor": 0
      },
      "text/plain": [
       "interactive(children=(IntSlider(value=29, description='index', max=59), Output()), _dom_classes=('widget-inter…"
      ]
     },
     "metadata": {},
     "output_type": "display_data"
    }
   ],
   "source": [
    "im = io.imread(\"moving-particles-sample1.tif\")\n",
    "nT = im.shape[0]\n",
    "interact(plot_stack, image=fixed(im), index=(0,nT-1,1), title=fixed(\"Sequence of images 1\"));"
   ]
  },
  {
   "cell_type": "markdown",
   "id": "7fcf3483",
   "metadata": {},
   "source": [
    "# Spot detection"
   ]
  },
  {
   "cell_type": "markdown",
   "id": "8a1c5b64",
   "metadata": {},
   "source": [
    "### <span style=\"color:blue\">Question 2: DoG filter</span>"
   ]
  },
  {
   "cell_type": "code",
   "execution_count": 8,
   "id": "d06ba8ca",
   "metadata": {},
   "outputs": [],
   "source": [
    "import skimage.filters as filters\n",
    "\n",
    "def DOG_fct(image, sigma, plot=False): # Slide 9\n",
    "    sigma1 = sigma\n",
    "    sigma2 = np.sqrt(2) * sigma1\n",
    "    g1 = filters.gaussian(image, sigma1, preserve_range=True)\n",
    "    g2 = filters.gaussian(image, sigma2, preserve_range=True) \n",
    "    DOG_image = g1 - g2\n",
    "        \n",
    "    if plot==True:\n",
    "        plot_image(DOG_image, \"DOG filtering\")\n",
    "    \n",
    "    else:\n",
    "        return DOG_image"
   ]
  },
  {
   "cell_type": "markdown",
   "id": "7fb91e15",
   "metadata": {},
   "source": [
    "### Visualization"
   ]
  },
  {
   "cell_type": "code",
   "execution_count": 9,
   "id": "5f14fcd3",
   "metadata": {},
   "outputs": [
    {
     "data": {
      "application/vnd.jupyter.widget-view+json": {
       "model_id": "664788c1852546dfa4c515b417e38040",
       "version_major": 2,
       "version_minor": 0
      },
      "text/plain": [
       "interactive(children=(IntSlider(value=5, description='sigma', max=10, min=1), Output()), _dom_classes=('widget…"
      ]
     },
     "metadata": {},
     "output_type": "display_data"
    }
   ],
   "source": [
    "interact(DOG_fct, image=fixed(im[0]), sigma=(1, 10 ,1), plot=fixed(True));"
   ]
  },
  {
   "cell_type": "markdown",
   "id": "95095451",
   "metadata": {},
   "source": [
    "### <span style=\"color:blue\">Question 3</span>"
   ]
  },
  {
   "cell_type": "code",
   "execution_count": 10,
   "id": "75bc3d74",
   "metadata": {},
   "outputs": [],
   "source": [
    "sigma_1 = 2"
   ]
  },
  {
   "cell_type": "markdown",
   "id": "990a6939",
   "metadata": {},
   "source": [
    "By setting `sigma` equal to `2`, we can clearly discriminate particles from the background."
   ]
  },
  {
   "cell_type": "markdown",
   "id": "8696433e",
   "metadata": {},
   "source": [
    "### <span style=\"color:blue\">Question 4: local maxima</span>"
   ]
  },
  {
   "cell_type": "code",
   "execution_count": 11,
   "id": "3640c0dd",
   "metadata": {},
   "outputs": [],
   "source": [
    "from skimage.color import gray2rgb\n",
    "\n",
    "from skimage.feature import peak_local_max\n",
    "\n",
    "def detect_local_maxima(DOG_image, threshold, size=3, original_image=None, plot=False):\n",
    "    detected_spots = peak_local_max(DOG_image, threshold_abs=threshold, exclude_border=False)\n",
    "    \n",
    "    if plot==True:\n",
    "        image_RGB = gray2rgb(original_image)\n",
    "        for spot in detected_spots:\n",
    "            rr, cc = circle_perimeter(spot[0], spot[1], size, shape=(original_image.shape[0], original_image.shape[1]))\n",
    "            image_RGB[rr, cc, :] = (255, 0, 0)\n",
    "        plot_image_RGB(image_RGB, \"Spot detection\")\n",
    "    else:\n",
    "        return detected_spots"
   ]
  },
  {
   "cell_type": "markdown",
   "id": "10623f47",
   "metadata": {},
   "source": [
    "### Visualization"
   ]
  },
  {
   "cell_type": "code",
   "execution_count": 12,
   "id": "d459283c",
   "metadata": {},
   "outputs": [
    {
     "data": {
      "application/vnd.jupyter.widget-view+json": {
       "model_id": "59d58e53985b4894b450468b1179533f",
       "version_major": 2,
       "version_minor": 0
      },
      "text/plain": [
       "interactive(children=(IntSlider(value=10, description='threshold', max=20, min=1), IntSlider(value=3, descript…"
      ]
     },
     "metadata": {},
     "output_type": "display_data"
    }
   ],
   "source": [
    "DOG_image = DOG_fct(im[0], sigma_1)\n",
    "interact(detect_local_maxima, DOG_image=fixed(DOG_image), threshold=(1,20,1), original_image=fixed(im[0]), plot=fixed(True));"
   ]
  },
  {
   "cell_type": "markdown",
   "id": "14412334",
   "metadata": {},
   "source": [
    "### <span style=\"color:blue\">Question 5</span>"
   ]
  },
  {
   "cell_type": "code",
   "execution_count": 13,
   "id": "d9927dac",
   "metadata": {},
   "outputs": [],
   "source": [
    "threshold_1 = 5"
   ]
  },
  {
   "cell_type": "markdown",
   "id": "77bd6f09",
   "metadata": {},
   "source": [
    "By setting `threshold` equal to `5` we can easily detect particles positions from other non relevant spot"
   ]
  },
  {
   "cell_type": "markdown",
   "id": "8d5554d4",
   "metadata": {},
   "source": [
    "# Real time tracking algorithm using a nearest neighbor search\n",
    " \n",
    "1. Object/spot detection on frame t\n",
    "    1. Compute DoG filter of the frame t\n",
    "    2. Detect the local maxima\n",
    "2. Link the detections between the frames t and t - 1"
   ]
  },
  {
   "cell_type": "markdown",
   "id": "a0819629",
   "metadata": {},
   "source": [
    "### <span style=\"color:blue\">Question 6, 7, 8, 9</span>"
   ]
  },
  {
   "cell_type": "code",
   "execution_count": 14,
   "id": "098fb53d",
   "metadata": {},
   "outputs": [],
   "source": [
    "class ParticleTracker():\n",
    "    def __init__(self, im, sigma, threshold, velocity):\n",
    "        self.im = im\n",
    "        self.nT = im.shape[0]\n",
    "        self.sigma = sigma\n",
    "        self.threshold = threshold\n",
    "        self.velocity = velocity\n",
    "        self.stack_results = self._init_stack_results()\n",
    "        self.trajectories  = self._build_trajectories()\n",
    "    \n",
    "    def _init_stack_results(self):\n",
    "        stack_results = np.zeros((self.nT, self.im.shape[1], self.im.shape[2], 3), dtype=np.double)\n",
    "        for t in range(self.nT):\n",
    "            stack_results[t] = gray2rgb(self.im[t])\n",
    "        return stack_results\n",
    "    \n",
    "    def _init_trajectories(self):\n",
    "        current_t = 0\n",
    "\n",
    "        # Object/spot detection on the first frame\n",
    "            # 1) Compute DOG filter of the first frame\n",
    "        DOG_image = DOG_fct(self.im[current_t], self.sigma)\n",
    "\n",
    "            # 2) Detect the local maxima\n",
    "        detected_spots = detect_local_maxima(DOG_image, self.threshold)\n",
    "\n",
    "        nbSpots = detected_spots.shape[0]\n",
    "        # print(str(nbSpots) + \" points detected on frame t=0\")\n",
    "\n",
    "            # 3) Convert the dected_spots into Spot object and draw it on stack_results\n",
    "        spots = []\n",
    "        for (row, column) in detected_spots:\n",
    "            spot = Spot(column, row, current_t, self.im[current_t, row,column])\n",
    "            spot.draw(3, self.stack_results)\n",
    "            spots.append(spot)\n",
    "\n",
    "            # 4) Initialize the trajectories\n",
    "        trajectories = []\n",
    "        for spot in spots:\n",
    "            trajectory = Trajectory()\n",
    "            trajectory.add(spot)\n",
    "            trajectories.append(trajectory)\n",
    "\n",
    "        return trajectories\n",
    "    \n",
    "    def _build_trajectories(self):\n",
    "        trajectories = self._init_trajectories()\n",
    "\n",
    "        for current_t in range(1, self.nT, 1): #range(start, stop (not included), step)\n",
    "            # Object/spot detection on the frame current_t\n",
    "                # 1) Compute DOG filter of the frame current_t\n",
    "            DOG_image = DOG_fct(self.im[current_t], self.sigma)\n",
    "\n",
    "                # 2) Detect the local maxima\n",
    "            detected_spots = detect_local_maxima(DOG_image, self.threshold)\n",
    "\n",
    "            nbSpots = detected_spots.shape[0]\n",
    "            # print(str(nbSpots) + \" points detected on the frame t=\" + str(current_t))    \n",
    "\n",
    "                # 3) Convert the dected_spots into Spot object and draw it on stack_results\n",
    "            spots = []\n",
    "            for (row, column) in detected_spots:\n",
    "                spot = Spot(column, row, current_t, self.im[current_t,row,column])\n",
    "                spot.draw(3, self.stack_results)\n",
    "                spots.append(spot)\n",
    "\n",
    "                # 4) Build the trajectory : linking of the detections between the frames current_t and current_t - 1 using a Nearest neighbor search\n",
    "            for spot in spots: \n",
    "                near_trajectories = []\n",
    "                near_trajectories_distances = []\n",
    "\n",
    "                for trajectory in trajectories:\n",
    "                    last_spot = trajectory.last_spot() # Extract the last spot of the trajectory\n",
    "                    \n",
    "                    if(last_spot.t == current_t-1): # Check that the last spot of the current trajectories belongs to the frame current_t - 1, otherwise they can not be linked \n",
    "                        if(last_spot.matched == None): # Check that the last spot was not linked to another detection yet\n",
    "                            near_trajectories.append(trajectory)\n",
    "                            near_trajectories_distances.append(spot.distance(last_spot))\n",
    "\n",
    "                if  (len(near_trajectories) > 0) and (\n",
    "                    np.min(near_trajectories_distances) <= self.velocity):\n",
    "                    near_trajectory = near_trajectories[np.argmin(near_trajectories_distances)]\n",
    "                    near_trajectory.last_spot().matched = spot\n",
    "                    near_trajectory.add(spot)\n",
    "                else: # else start a new trajectory with this spot\n",
    "                    new_trajectory = Trajectory()\n",
    "                    new_trajectory.add(spot)\n",
    "                    trajectories.append(new_trajectory)\n",
    "            \n",
    "        return trajectories\n",
    "\n",
    "    def count_trajectories(self):\n",
    "        return len(self.trajectories)\n",
    "\n",
    "    def plot_trajectories(self):\n",
    "        for trajectory in self.trajectories:\n",
    "            trajectory.draw(self.stack_results)\n",
    "            \n",
    "        interact(plot_trajectories, image=fixed(self.stack_results), index=(0,nT-1,1), title=fixed(\"Trajectories\"));\n",
    "\n",
    "        "
   ]
  },
  {
   "cell_type": "code",
   "execution_count": 15,
   "id": "af9c47dd",
   "metadata": {},
   "outputs": [
    {
     "name": "stdout",
     "output_type": "stream",
     "text": [
      "tracker_1_30.count_trajectories() = 54\n"
     ]
    },
    {
     "data": {
      "application/vnd.jupyter.widget-view+json": {
       "model_id": "158b5195bcad4d32a7068a8d378e0886",
       "version_major": 2,
       "version_minor": 0
      },
      "text/plain": [
       "interactive(children=(IntSlider(value=29, description='index', max=59), Output()), _dom_classes=('widget-inter…"
      ]
     },
     "metadata": {},
     "output_type": "display_data"
    }
   ],
   "source": [
    "tracker_1_30  = ParticleTracker(im, sigma_1, threshold_1, velocity=30)\n",
    "print(f\"{tracker_1_30.count_trajectories() = }\")\n",
    "tracker_1_30.plot_trajectories()"
   ]
  },
  {
   "cell_type": "code",
   "execution_count": 16,
   "id": "05be3664",
   "metadata": {},
   "outputs": [
    {
     "name": "stdout",
     "output_type": "stream",
     "text": [
      "tracker_1_11.count_trajectories() = 54\n"
     ]
    },
    {
     "data": {
      "application/vnd.jupyter.widget-view+json": {
       "model_id": "b602ca18c4ef449bae2f060b7275f979",
       "version_major": 2,
       "version_minor": 0
      },
      "text/plain": [
       "interactive(children=(IntSlider(value=29, description='index', max=59), Output()), _dom_classes=('widget-inter…"
      ]
     },
     "metadata": {},
     "output_type": "display_data"
    }
   ],
   "source": [
    "tracker_1_11  = ParticleTracker(im, sigma=sigma_1, threshold=threshold_1, velocity=11)\n",
    "print(f\"{tracker_1_11.count_trajectories() = }\")\n",
    "tracker_1_11.plot_trajectories()"
   ]
  },
  {
   "cell_type": "markdown",
   "id": "4f9c3869",
   "metadata": {},
   "source": [
    "### <span style=\"color:blue\">Question 9</span>\n",
    "Are you happy with the results? Otherwise you can play with the velocity parameter. Report the final value used for the velocity and justify your choice."
   ]
  },
  {
   "cell_type": "code",
   "execution_count": 17,
   "id": "4ae98ee6",
   "metadata": {},
   "outputs": [],
   "source": [
    "velocity_1 = 11"
   ]
  },
  {
   "cell_type": "markdown",
   "id": "75d0aedf",
   "metadata": {},
   "source": [
    "By keeping the original velocity equal to `54` we achieve a total number of trajectories equal to `54`. Assuming that this is the correct number of trajectories, we reduced the `velocity` until reaching its minimum value for the same number of trajectoires. Therefore, we choose a velocity equal to `11` for these sequence of images and as reference for the following exercices."
   ]
  },
  {
   "cell_type": "markdown",
   "id": "6c67e077",
   "metadata": {},
   "source": [
    "# Saving the results"
   ]
  },
  {
   "cell_type": "code",
   "execution_count": 18,
   "id": "09f9b983",
   "metadata": {},
   "outputs": [],
   "source": [
    "io.imsave(\"stack_results1.tif\", tracker_1_11.stack_results)"
   ]
  },
  {
   "cell_type": "markdown",
   "id": "7b631cd5",
   "metadata": {},
   "source": [
    "### <span style=\"color:blue\">Question 10</span>\n",
    "Apply your algorithm on the sequence of images \"moving-particles-sample2.tif\". What do you notice? Why do you think that the results are altered? Play with the parameters of your algorithm to obtain good results and report your final parameters value. Justify your answers/choices."
   ]
  },
  {
   "cell_type": "code",
   "execution_count": 19,
   "id": "dce998a1",
   "metadata": {},
   "outputs": [
    {
     "data": {
      "application/vnd.jupyter.widget-view+json": {
       "model_id": "64d881c0990148a1871fc047531647bb",
       "version_major": 2,
       "version_minor": 0
      },
      "text/plain": [
       "interactive(children=(IntSlider(value=29, description='index', max=59), Output()), _dom_classes=('widget-inter…"
      ]
     },
     "metadata": {},
     "output_type": "display_data"
    }
   ],
   "source": [
    "im_2 = io.imread(\"moving-particles-sample2.tif\")\n",
    "nT_2 = im.shape[0]\n",
    "interact(plot_stack, image=fixed(im_2), index=(0,nT_2-1,1), title=fixed(\"Sequence of images 2\"));"
   ]
  },
  {
   "cell_type": "markdown",
   "id": "cd7fa679",
   "metadata": {},
   "source": [
    "We can see that this new sequence of images is **noisier** than the previous one. Another parametrization of the `sigma` and `threshold` may be needed to correctly identify the previous trajectories."
   ]
  },
  {
   "cell_type": "code",
   "execution_count": 20,
   "id": "badace77",
   "metadata": {},
   "outputs": [
    {
     "data": {
      "application/vnd.jupyter.widget-view+json": {
       "model_id": "12454009b9b84023899d1e9449725129",
       "version_major": 2,
       "version_minor": 0
      },
      "text/plain": [
       "interactive(children=(IntSlider(value=5, description='sigma', max=10, min=1), Output()), _dom_classes=('widget…"
      ]
     },
     "metadata": {},
     "output_type": "display_data"
    }
   ],
   "source": [
    "interact(DOG_fct, image=fixed(im_2[0]), sigma=(1, 10 ,1), plot=fixed(True));"
   ]
  },
  {
   "cell_type": "code",
   "execution_count": 21,
   "id": "cbd84c02",
   "metadata": {},
   "outputs": [],
   "source": [
    "sigma_2 = 3"
   ]
  },
  {
   "cell_type": "markdown",
   "id": "ed961eff",
   "metadata": {},
   "source": [
    "In this case, we choose a `sigma` equal to `3` in order to highlight the particles from the noisy background "
   ]
  },
  {
   "cell_type": "code",
   "execution_count": 22,
   "id": "158040ba",
   "metadata": {},
   "outputs": [
    {
     "data": {
      "application/vnd.jupyter.widget-view+json": {
       "model_id": "18c9b73bd2644af8ae79ba1583a9aa9d",
       "version_major": 2,
       "version_minor": 0
      },
      "text/plain": [
       "interactive(children=(IntSlider(value=10, description='threshold', max=20, min=1), IntSlider(value=3, descript…"
      ]
     },
     "metadata": {},
     "output_type": "display_data"
    }
   ],
   "source": [
    "DOG_image_2 = DOG_fct(im_2[0], sigma_2)\n",
    "interact(detect_local_maxima, DOG_image=fixed(DOG_image_2), threshold=(1,20,1), original_image=fixed(im_2[0]), plot=fixed(True));"
   ]
  },
  {
   "cell_type": "code",
   "execution_count": 23,
   "id": "9ee5e311",
   "metadata": {},
   "outputs": [],
   "source": [
    "threshold_2 = 6"
   ]
  },
  {
   "cell_type": "markdown",
   "id": "dd8601d8",
   "metadata": {},
   "source": [
    "Similarly, we move the `threshold` to `6` to correctly detect the particles from the each frame. "
   ]
  },
  {
   "cell_type": "code",
   "execution_count": 24,
   "id": "19710014",
   "metadata": {},
   "outputs": [
    {
     "name": "stdout",
     "output_type": "stream",
     "text": [
      "tracker_2.count_trajectories() = 57\n"
     ]
    },
    {
     "data": {
      "application/vnd.jupyter.widget-view+json": {
       "model_id": "4e2f323b186040c1b6c15b88524e8ad0",
       "version_major": 2,
       "version_minor": 0
      },
      "text/plain": [
       "interactive(children=(IntSlider(value=29, description='index', max=59), Output()), _dom_classes=('widget-inter…"
      ]
     },
     "metadata": {},
     "output_type": "display_data"
    }
   ],
   "source": [
    "tracker_2  = ParticleTracker(im_2, sigma_2, threshold_2, velocity=11)\n",
    "print(f\"{tracker_2.count_trajectories() = }\")\n",
    "tracker_2.plot_trajectories()"
   ]
  },
  {
   "cell_type": "markdown",
   "id": "f1f7d144",
   "metadata": {},
   "source": [
    "Unfortunately, even after fine tuning the detection parameters `sigma` and `threshold`, we didn't arrive to the exact same number of trajectories as in the case without noise. Netherless, this does not mean that this amount of trajectoires is wrong but maybe that the one assumed in the first case is not totally right."
   ]
  },
  {
   "cell_type": "code",
   "execution_count": 25,
   "id": "6eabb2df",
   "metadata": {},
   "outputs": [],
   "source": [
    "io.imsave(\"stack_results2.tif\", tracker_2.stack_results)"
   ]
  },
  {
   "cell_type": "markdown",
   "id": "cb57241b",
   "metadata": {},
   "source": [
    "### <span style=\"color:blue\">Question 11</span>\n",
    "Same question with \"moving-particles-sample3.tif\". Justify your answer."
   ]
  },
  {
   "cell_type": "code",
   "execution_count": 26,
   "id": "36f6ba29",
   "metadata": {},
   "outputs": [
    {
     "data": {
      "application/vnd.jupyter.widget-view+json": {
       "model_id": "c6a979136b1d46558a5f8e8aa828c00a",
       "version_major": 2,
       "version_minor": 0
      },
      "text/plain": [
       "interactive(children=(IntSlider(value=29, description='index', max=59), Output()), _dom_classes=('widget-inter…"
      ]
     },
     "metadata": {},
     "output_type": "display_data"
    }
   ],
   "source": [
    "im_3 = io.imread(\"moving-particles-sample3.tif\")\n",
    "nT_3 = im.shape[0]\n",
    "interact(plot_stack, image=fixed(im_3), index=(0,nT_3-1,1), title=fixed(\"Sequence of images\"));"
   ]
  },
  {
   "cell_type": "markdown",
   "id": "42bc68a0",
   "metadata": {},
   "source": [
    "Looking at the first frames of this sequence, we can notice the same particles as in sequence `1` (and `2`). However, it seems that they move faster for frame to frame and, so, having the same amount of frames, the new sequences goes further into the future. Therefore, in this case, detection parameters should stay steady while increasing the `velocity` from frame to frame. "
   ]
  },
  {
   "cell_type": "code",
   "execution_count": 27,
   "id": "a1ca3359",
   "metadata": {},
   "outputs": [
    {
     "data": {
      "application/vnd.jupyter.widget-view+json": {
       "model_id": "44881b741c804411b9fa3e90ddb84fc2",
       "version_major": 2,
       "version_minor": 0
      },
      "text/plain": [
       "interactive(children=(IntSlider(value=5, description='sigma', max=10, min=1), Output()), _dom_classes=('widget…"
      ]
     },
     "metadata": {},
     "output_type": "display_data"
    }
   ],
   "source": [
    "interact(DOG_fct, image=fixed(im_3[0]), sigma=(1, 10 ,1), plot=fixed(True));"
   ]
  },
  {
   "cell_type": "code",
   "execution_count": 28,
   "id": "2c27e52f",
   "metadata": {},
   "outputs": [],
   "source": [
    "sigma_3 = 2"
   ]
  },
  {
   "cell_type": "code",
   "execution_count": 29,
   "id": "23537ee3",
   "metadata": {},
   "outputs": [
    {
     "data": {
      "application/vnd.jupyter.widget-view+json": {
       "model_id": "a6088cd5ce3241fcb125cdfbc1eeeb72",
       "version_major": 2,
       "version_minor": 0
      },
      "text/plain": [
       "interactive(children=(IntSlider(value=10, description='threshold', max=20, min=1), IntSlider(value=3, descript…"
      ]
     },
     "metadata": {},
     "output_type": "display_data"
    }
   ],
   "source": [
    "DOG_image_3 = DOG_fct(im_3[0], sigma_3)\n",
    "interact(detect_local_maxima, DOG_image=fixed(DOG_image_3), threshold=(1,20,1), original_image=fixed(im_3[0]), plot=fixed(True));"
   ]
  },
  {
   "cell_type": "code",
   "execution_count": 30,
   "id": "cff2e40a",
   "metadata": {},
   "outputs": [],
   "source": [
    "threshold_3 = 5"
   ]
  },
  {
   "cell_type": "code",
   "execution_count": 31,
   "id": "43cd474b",
   "metadata": {},
   "outputs": [
    {
     "name": "stdout",
     "output_type": "stream",
     "text": [
      "tracker_3.count_trajectories() = 55\n"
     ]
    },
    {
     "data": {
      "application/vnd.jupyter.widget-view+json": {
       "model_id": "92b1d535e5fd4bdcbb4674085a0f6928",
       "version_major": 2,
       "version_minor": 0
      },
      "text/plain": [
       "interactive(children=(IntSlider(value=29, description='index', max=59), Output()), _dom_classes=('widget-inter…"
      ]
     },
     "metadata": {},
     "output_type": "display_data"
    }
   ],
   "source": [
    "tracker_3  = ParticleTracker(im_3, sigma=sigma_3, threshold=threshold_3, velocity=31)\n",
    "print(f\"{tracker_3.count_trajectories() = }\")\n",
    "tracker_3.plot_trajectories()"
   ]
  },
  {
   "cell_type": "markdown",
   "id": "0bac4384",
   "metadata": {},
   "source": [
    "As expected, a considerable increase in the velocity up to `31` was needed to equal the same result as in sequence `1`, by keeping the same detection parameters."
   ]
  },
  {
   "cell_type": "code",
   "execution_count": 32,
   "id": "1a663517",
   "metadata": {},
   "outputs": [],
   "source": [
    "io.imsave(\"stack_results3.tif\", tracker_3.stack_results)"
   ]
  },
  {
   "cell_type": "markdown",
   "id": "7de807b5",
   "metadata": {},
   "source": [
    "# Mean square displacement analysis (MSD)"
   ]
  },
  {
   "cell_type": "markdown",
   "id": "c38690ff",
   "metadata": {},
   "source": [
    "### <span style=\"color:blue\">Question 12</span>\n",
    "Compute the MSD for one particle (one trajectory)."
   ]
  },
  {
   "cell_type": "code",
   "execution_count": 33,
   "id": "0d90f1b5",
   "metadata": {},
   "outputs": [],
   "source": [
    "def compute_MSD_step(trajectory, step):\n",
    "    square_displacements = []\n",
    "    for i in range(len(trajectory) - step):\n",
    "        spot1 = trajectory[i]\n",
    "        spot2 = trajectory[i + step]\n",
    "        square_displacements.append(spot1.distance(spot2)**2)\n",
    "    return np.mean(square_displacements)\n",
    "\n",
    "\n",
    "def compute_MSD(trajectory):\n",
    "    trajectory_ = trajectory.list_spots \n",
    "    MSD = []\n",
    "    for step in range(1, len(trajectory_)):\n",
    "        MSD.append(compute_MSD_step(trajectory_, step))\n",
    "    return np.array(MSD)"
   ]
  },
  {
   "cell_type": "markdown",
   "id": "9bc76e5d",
   "metadata": {},
   "source": [
    "### <span style=\"color:blue\">Question 13</span>\n",
    "Plot on the same figure the MSD curve of each trajectory."
   ]
  },
  {
   "cell_type": "code",
   "execution_count": 34,
   "id": "13f77b69",
   "metadata": {},
   "outputs": [
    {
     "data": {
      "image/png": "[encoded data removed]",
      "text/plain": [
       "<Figure size 640x480 with 1 Axes>"
      ]
     },
     "metadata": {},
     "output_type": "display_data"
    }
   ],
   "source": [
    "trajectories = tracker_1_11.trajectories\n",
    "\n",
    "MSDs = []\n",
    "for trajectory in trajectories:\n",
    "    MSD = compute_MSD(trajectory)\n",
    "    MSDs.append(MSD)\n",
    "    plt.plot(MSD)\n",
    "\n",
    "plt.xlabel(\"Step (tau)\")\n",
    "plt.ylabel(\"MSD\")\n",
    "plt.title(\"Trajectories MSD\")\n",
    "plt.show()"
   ]
  },
  {
   "cell_type": "markdown",
   "id": "f09f0e0c",
   "metadata": {},
   "source": [
    "### <span style=\"color:blue\">Question 14</span>\n",
    "Compute the average MSD of all trajectories and plot the resulting curve."
   ]
  },
  {
   "cell_type": "code",
   "execution_count": 35,
   "id": "74095f46",
   "metadata": {},
   "outputs": [],
   "source": [
    "def avg_MSD(MDSs):\n",
    "    lens = [len(i) for i in MDSs]\n",
    "    arr = np.ma.empty((len(MDSs), np.max(lens)))\n",
    "    arr.mask = True\n",
    "    for idx, MSD in enumerate(MDSs):\n",
    "        arr[idx, :len(MSD)] = MSD\n",
    "    return arr.mean(axis = -2)"
   ]
  },
  {
   "cell_type": "code",
   "execution_count": 36,
   "id": "a9bb421f",
   "metadata": {},
   "outputs": [
    {
     "data": {
      "image/png": "[encoded data removed]",
      "text/plain": [
       "<Figure size 640x480 with 1 Axes>"
      ]
     },
     "metadata": {},
     "output_type": "display_data"
    }
   ],
   "source": [
    "plt.plot(avg_MSD(MSDs))\n",
    "plt.xlabel(\"Step (tau)\")\n",
    "plt.ylabel(\"Avg MSD\")\n",
    "plt.title(\"Trajectories Average MSD\")\n",
    "plt.show()"
   ]
  },
  {
   "cell_type": "markdown",
   "id": "da97ce5d",
   "metadata": {},
   "source": [
    "### <span style=\"color:blue\">Question 15</span>\n",
    "According to you, the movement of the particles correspond to directed motions (superdiffusion), Brownian motions (normal diffusion) or confined movements (subdiffusion)? Justify your answer."
   ]
  },
  {
   "cell_type": "markdown",
   "id": "cb643a19",
   "metadata": {},
   "source": [
    "Plot in question `14` shows us that the average MSD far greater that the actual value of the time step (tau):\n",
    "\n",
    "$MSD(tau) >> tau$ <==> $MSD(tau) = tau^{\\alpha}$ with $\\alpha > 1$\n",
    "\n",
    "Therefore, the mouvement of particles corresponds to directed motions (superdiffusion)."
   ]
  }
 ],
 "metadata": {
  "kernelspec": {
   "display_name": "Python 3 (ipykernel)",
   "language": "python",
   "name": "python3"
  },
  "language_info": {
   "codemirror_mode": {
    "name": "ipython",
    "version": 3
   },
   "file_extension": ".py",
   "mimetype": "text/x-python",
   "name": "python",
   "nbconvert_exporter": "python",
   "pygments_lexer": "ipython3",
   "version": "3.11.5"
  }
 },
 "nbformat": 4,
 "nbformat_minor": 5
}
